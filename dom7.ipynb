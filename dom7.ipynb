{
 "cells": [
  {
   "cell_type": "code",
   "execution_count": 2,
   "metadata": {},
   "outputs": [],
   "source": [
    "import matplotlib.pyplot as plt\n",
    "import numpy as np\n",
    "import random\n",
    "import seaborn\n",
    "\n",
    "from numpy.random import choice\n",
    "from scipy.stats import *\n",
    "\n",
    "%matplotlib inline"
   ]
  },
  {
   "cell_type": "markdown",
   "metadata": {},
   "source": [
    "# Задание 1\n",
    "Монетку подбрасывают 15 раз, найдите вероятность выпадения простого числа орлов (решение на бумажке и на python)."
   ]
  },
  {
   "cell_type": "markdown",
   "metadata": {},
   "source": [
    "Вероятность выпадения простого числа \n",
    "p = 0.0032 + 0.0139 + 0.0916 + 0.1964 + 0.0417 + 0.0032 = 0.35"
   ]
  },
  {
   "cell_type": "code",
   "execution_count": 3,
   "metadata": {},
   "outputs": [
    {
     "name": "stdout",
     "output_type": "stream",
     "text": [
      "Вероятность выпадения числа 2 = 0.0032043457031250204\n",
      "Вероятность выпадения числа 3 = 0.013885498046875066\n",
      "Вероятность выпадения числа 5 = 0.09164428710937506\n",
      "Вероятность выпадения числа 7 = 0.1963806152343757\n",
      "Вероятность выпадения числа 11 = 0.04165649414062508\n",
      "Вероятность выпадения числа 13 = 0.0032043457031250204\n",
      "Вероятность выпадения простого числа = 0.3499755859375009\n"
     ]
    }
   ],
   "source": [
    "prb = 0\n",
    "x = [2, 3, 5, 7, 11, 13]\n",
    "p = 0.5\n",
    "n = 15\n",
    "\n",
    "for c in x:\n",
    "    print ('Вероятность выпадения числа', c, '=', binom.pmf(c, n, p))\n",
    "    prb += binom.pmf(c, n, p)\n",
    "print ('Вероятность выпадения простого числа','=', prb)"
   ]
  },
  {
   "cell_type": "markdown",
   "metadata": {},
   "source": [
    "# Задание 2\n",
    "Создайте свою дискретную случайную величину с не менее, чем 10 значениями. Просемплируйте 1000 случайных значений, \n",
    "постройте гистограмму плотности распределения по выборке, посчитайте среднее, дисперсию и медиану."
   ]
  },
  {
   "cell_type": "code",
   "execution_count": 4,
   "metadata": {},
   "outputs": [
    {
     "data": {
      "image/png": "[encoded data removed]",
      "text/plain": [
       "<Figure size 432x288 with 1 Axes>"
      ]
     },
     "metadata": {
      "needs_background": "light"
     },
     "output_type": "display_data"
    }
   ],
   "source": [
    "s=np.random.poisson(10, 1000)\n",
    "plt.hist(s, 22)\n",
    "plt.show()"
   ]
  },
  {
   "cell_type": "code",
   "execution_count": 5,
   "metadata": {},
   "outputs": [
    {
     "name": "stdout",
     "output_type": "stream",
     "text": [
      "Среднее =  10.079\n",
      "Медиана =  10.0\n",
      "Дисперсия =  9.154759000000002\n"
     ]
    }
   ],
   "source": [
    "print ('Среднее = ', np.mean(s))\n",
    "print ('Медиана = ', np.median(s))\n",
    "print ('Дисперсия = ', np.var(s))"
   ]
  },
  {
   "cell_type": "markdown",
   "metadata": {},
   "source": [
    "# Задание 3\n",
    "\n",
    "Задача про 3 монеты\n",
    "Пусть брошены 3 уравновешенные монеты.\n",
    "Рассмотрим 3 события:\n",
    "A1 - монеты 1 и 2 упали одной и той же стороной,\n",
    "A2 - монеты 2 и 3 упали одной и той же стороной,\n",
    "A3 - монеты 1 и 3 упали одной и той же стороной.\n",
    "Покажите, почему эти 3 события (A1, A2, A3) являются попарно независимыми, но не являются независимыми в совокупности."
   ]
  },
  {
   "cell_type": "code",
   "execution_count": 6,
   "metadata": {},
   "outputs": [],
   "source": [
    "# при подбрасывании трех монет есть 8 вероятных исходов (8 исходов - полная группа)\n",
    "pA1 = 4 / 8 # вероятность события A1 \n",
    "pA2 = 4 / 8 # вероятность события A2 \n",
    "pA3 = 4 / 8 # вероятность события A3"
   ]
  },
  {
   "cell_type": "code",
   "execution_count": 7,
   "metadata": {},
   "outputs": [
    {
     "data": {
      "text/plain": [
       "0.25"
      ]
     },
     "execution_count": 7,
     "metadata": {},
     "output_type": "execute_result"
    }
   ],
   "source": [
    "# вероятность события и А1, и А2 как произведение вероятностей события\n",
    "pA1A2 = pA1 * pA2\n",
    "pA1A2"
   ]
  },
  {
   "cell_type": "code",
   "execution_count": 9,
   "metadata": {},
   "outputs": [
    {
     "data": {
      "text/plain": [
       "0.25"
      ]
     },
     "execution_count": 9,
     "metadata": {},
     "output_type": "execute_result"
    }
   ],
   "source": [
    "# вероятность события и А1, и А2 как частное от деления успехова на количество возможных исходов\n",
    "pA1A2_2 = (2)/(8)\n",
    "pA1A2_2"
   ]
  },
  {
   "cell_type": "code",
   "execution_count": 10,
   "metadata": {},
   "outputs": [],
   "source": [
    "# так как p(A1A2) = p(A1) x p(A2), значит, события А1 и А2 независимы. То же можем доказать для пары А1 и А3 и пары А2 и А3.\n",
    "# докажем, что все три события вместе не являются независимыми"
   ]
  },
  {
   "cell_type": "code",
   "execution_count": 11,
   "metadata": {},
   "outputs": [
    {
     "data": {
      "text/plain": [
       "0.125"
      ]
     },
     "execution_count": 11,
     "metadata": {},
     "output_type": "execute_result"
    }
   ],
   "source": [
    "# вероятность события и А1, и А2, и А3 как произведение вероятностей события\n",
    "pA1A2A3 = pA1 * pA2 * pA3\n",
    "pA1A2A3"
   ]
  },
  {
   "cell_type": "code",
   "execution_count": 13,
   "metadata": {},
   "outputs": [
    {
     "data": {
      "text/plain": [
       "0.25"
      ]
     },
     "execution_count": 13,
     "metadata": {},
     "output_type": "execute_result"
    }
   ],
   "source": [
    "# вероятность события и А1, и А2 как частное от деления успехов на количество возможных исходов\n",
    "pA1A2A3_2 = (2)/(8)\n",
    "pA1A2A3_2"
   ]
  },
  {
   "cell_type": "code",
   "execution_count": 14,
   "metadata": {},
   "outputs": [],
   "source": [
    "# так как p(A1A2A3) != p(A1) x p(A2) x p(A3), значит, события А1, А2 и А3  не независимы.\n"
   ]
  },
  {
   "cell_type": "markdown",
   "metadata": {},
   "source": [
    "# Задание 4 (формула полной вероятности)\n",
    "В магазин привезли устройства с 3-х разных предприятий. Соотношение устройств следующее: 20% - продукция первого предприятия, 30% - продукция второго предприятия, 50% - продукция третьего предприятия; далее, 10% продукции первого предприятия высшего сорта, на втором предприятии - 5% и на третьем - 20% продукции высшего сорта. Найти вероятность того, что случайно купленная новая продукция окажется высшего сорта."
   ]
  },
  {
   "cell_type": "code",
   "execution_count": 15,
   "metadata": {},
   "outputs": [
    {
     "name": "stdout",
     "output_type": "stream",
     "text": [
      "Вероятность того, что случайно купленная новая продукция окажется высшего сорта, равна 0.135\n"
     ]
    }
   ],
   "source": [
    "p_high = 0.2 * 0.1 + 0.3 * 0.05 + 0.5 * 0.2\n",
    "print('Вероятность того, что случайно купленная новая продукция окажется высшего сорта, равна', '{:.3f}'.format(p_high))"
   ]
  },
  {
   "cell_type": "code",
   "execution_count": null,
   "metadata": {},
   "outputs": [],
   "source": []
  }
 ],
 "metadata": {
  "kernelspec": {
   "display_name": "Python 3",
   "language": "python",
   "name": "python3"
  },
  "language_info": {
   "codemirror_mode": {
    "name": "ipython",
    "version": 3
   },
   "file_extension": ".py",
   "mimetype": "text/x-python",
   "name": "python",
   "nbconvert_exporter": "python",
   "pygments_lexer": "ipython3",
   "version": "3.7.3"
  }
 },
 "nbformat": 4,
 "nbformat_minor": 2
}
